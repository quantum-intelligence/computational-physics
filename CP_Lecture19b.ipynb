{
  "cells": [
    {
      "cell_type": "markdown",
      "metadata": {
        "id": "view-in-github",
        "colab_type": "text"
      },
      "source": [
        "<a href=\"https://colab.research.google.com/github/quantum-intelligence/computational-physics/blob/main/CP_Lecture19b.ipynb\" target=\"_parent\"><img src=\"https://colab.research.google.com/assets/colab-badge.svg\" alt=\"Open In Colab\"/></a>"
      ]
    },
    {
      "cell_type": "markdown",
      "metadata": {
        "id": "xQUzM5SnIu5m"
      },
      "source": [
        "#Computational Physics\n",
        "###Lecture 19b\n",
        "###Intro to quantum chemistry on a quantum computer"
      ]
    },
    {
      "cell_type": "markdown",
      "source": [
        "**Hello World**\n",
        "\n",
        "Work through the example below:"
      ],
      "metadata": {
        "id": "myslS2IWhv4r"
      }
    },
    {
      "cell_type": "markdown",
      "source": [
        "Run the code in the link below:\n",
        "\n",
        "- type out code (do not copy/paste)\n",
        "\n",
        "https://docs.quantum.ibm.com/start/hello-world"
      ],
      "metadata": {
        "id": "ViLhatvRhzpA"
      }
    },
    {
      "cell_type": "code",
      "source": [
        "pip install qiskit-nature-pyscf"
      ],
      "metadata": {
        "colab": {
          "base_uri": "https://localhost:8080/"
        },
        "id": "IGmeAMii6n_O",
        "outputId": "5dbfba40-5c41-428a-beb5-8b407caf278e"
      },
      "execution_count": 19,
      "outputs": [
        {
          "output_type": "stream",
          "name": "stdout",
          "text": [
            "Requirement already satisfied: qiskit-nature-pyscf in /usr/local/lib/python3.10/dist-packages (0.4.0)\n",
            "Requirement already satisfied: qiskit-nature>=0.7.1 in /usr/local/lib/python3.10/dist-packages (from qiskit-nature-pyscf) (0.7.2)\n",
            "Requirement already satisfied: pyscf>=2.0 in /usr/local/lib/python3.10/dist-packages (from qiskit-nature-pyscf) (2.5.0)\n",
            "Requirement already satisfied: numpy!=1.16,!=1.17,>=1.13 in /usr/local/lib/python3.10/dist-packages (from pyscf>=2.0->qiskit-nature-pyscf) (1.25.2)\n",
            "Requirement already satisfied: scipy!=1.5.0,!=1.5.1 in /usr/local/lib/python3.10/dist-packages (from pyscf>=2.0->qiskit-nature-pyscf) (1.11.4)\n",
            "Requirement already satisfied: h5py>=2.7 in /usr/local/lib/python3.10/dist-packages (from pyscf>=2.0->qiskit-nature-pyscf) (3.9.0)\n",
            "Requirement already satisfied: setuptools in /usr/local/lib/python3.10/dist-packages (from pyscf>=2.0->qiskit-nature-pyscf) (67.7.2)\n",
            "Requirement already satisfied: qiskit>=0.44 in /usr/local/lib/python3.10/dist-packages (from qiskit-nature>=0.7.1->qiskit-nature-pyscf) (1.0.2)\n",
            "Requirement already satisfied: qiskit-algorithms>=0.2.1 in /usr/local/lib/python3.10/dist-packages (from qiskit-nature>=0.7.1->qiskit-nature-pyscf) (0.3.0)\n",
            "Requirement already satisfied: psutil>=5 in /usr/local/lib/python3.10/dist-packages (from qiskit-nature>=0.7.1->qiskit-nature-pyscf) (5.9.5)\n",
            "Requirement already satisfied: typing-extensions in /usr/local/lib/python3.10/dist-packages (from qiskit-nature>=0.7.1->qiskit-nature-pyscf) (4.11.0)\n",
            "Requirement already satisfied: rustworkx>=0.12 in /usr/local/lib/python3.10/dist-packages (from qiskit-nature>=0.7.1->qiskit-nature-pyscf) (0.14.2)\n",
            "Requirement already satisfied: sympy>=1.3 in /usr/local/lib/python3.10/dist-packages (from qiskit>=0.44->qiskit-nature>=0.7.1->qiskit-nature-pyscf) (1.12)\n",
            "Requirement already satisfied: dill>=0.3 in /usr/local/lib/python3.10/dist-packages (from qiskit>=0.44->qiskit-nature>=0.7.1->qiskit-nature-pyscf) (0.3.8)\n",
            "Requirement already satisfied: python-dateutil>=2.8.0 in /usr/local/lib/python3.10/dist-packages (from qiskit>=0.44->qiskit-nature>=0.7.1->qiskit-nature-pyscf) (2.8.2)\n",
            "Requirement already satisfied: stevedore>=3.0.0 in /usr/local/lib/python3.10/dist-packages (from qiskit>=0.44->qiskit-nature>=0.7.1->qiskit-nature-pyscf) (5.2.0)\n",
            "Requirement already satisfied: symengine>=0.11 in /usr/local/lib/python3.10/dist-packages (from qiskit>=0.44->qiskit-nature>=0.7.1->qiskit-nature-pyscf) (0.11.0)\n",
            "Requirement already satisfied: six>=1.5 in /usr/local/lib/python3.10/dist-packages (from python-dateutil>=2.8.0->qiskit>=0.44->qiskit-nature>=0.7.1->qiskit-nature-pyscf) (1.16.0)\n",
            "Requirement already satisfied: pbr!=2.1.0,>=2.0.0 in /usr/local/lib/python3.10/dist-packages (from stevedore>=3.0.0->qiskit>=0.44->qiskit-nature>=0.7.1->qiskit-nature-pyscf) (6.0.0)\n",
            "Requirement already satisfied: mpmath>=0.19 in /usr/local/lib/python3.10/dist-packages (from sympy>=1.3->qiskit>=0.44->qiskit-nature>=0.7.1->qiskit-nature-pyscf) (1.3.0)\n"
          ]
        }
      ]
    },
    {
      "cell_type": "code",
      "source": [
        "#check pyscf installation\n",
        "import pyscf\n",
        "print(pyscf.__version__)  # This prints the installed version of PySCF"
      ],
      "metadata": {
        "colab": {
          "base_uri": "https://localhost:8080/"
        },
        "id": "J5LK7GOTG5DP",
        "outputId": "859c8f83-3d3e-4ba4-f46a-dd364c8a59d1"
      },
      "execution_count": 20,
      "outputs": [
        {
          "output_type": "stream",
          "name": "stdout",
          "text": [
            "2.5.0\n"
          ]
        }
      ]
    },
    {
      "cell_type": "markdown",
      "source": [
        "Code adapted from qiskit community:\n",
        "\n",
        "https://github.com/qiskit-community/qiskit-nature-pyscf/blob/main/README.md\n",
        "\n",
        "https://qiskit-community.github.io/qiskit-nature-pyscf/stubs/qiskit_nature_pyscf.QiskitSolver.html"
      ],
      "metadata": {
        "id": "KdPtqQF44NNi"
      }
    },
    {
      "cell_type": "code",
      "execution_count": 21,
      "metadata": {
        "id": "xk46vkqs6stP"
      },
      "outputs": [],
      "source": [
        "from pyscf import gto, scf, mcscf\n",
        "\n",
        "import numpy as np\n",
        "\n",
        "from qiskit.primitives import Estimator\n",
        "from qiskit_algorithms import VQE\n",
        "from qiskit_algorithms.optimizers import SLSQP\n",
        "from qiskit_nature.second_q.algorithms import GroundStateEigensolver\n",
        "from qiskit_nature.second_q.circuit.library import HartreeFock, UCCSD\n",
        "from qiskit_nature.second_q.mappers import ParityMapper"
      ]
    },
    {
      "cell_type": "code",
      "source": [
        "from qiskit_nature_pyscf import QiskitSolver\n",
        "\n",
        "# define molecule object using the Gaussian code\n",
        "mol = gto.M(atom=\"Li 0 0 0; H 0 0 1.6\", basis=\"sto-3g\")\n",
        "\n",
        "# calculation to get electronic structure and\n",
        "# ground state energy of a closed-shell molecule using the Hartree-Fock method\n",
        "h_f = scf.RHF(mol).run()\n",
        "\n",
        "# specify the number of orbitals and electrons\n",
        "norb = 2\n",
        "nalpha, nbeta = 1, 1\n",
        "nelec = nalpha + nbeta\n",
        "\n",
        "# Complete Active Space Configuration Interaction (CASCI) calculation\n",
        "cas = mcscf.CASCI(h_f, norb, nelec)\n",
        "\n",
        "# transform fermionic operators into qubit operators\n",
        "mapper = ParityMapper(num_particles=(nalpha, nbeta))\n",
        "\n",
        "# UCCSD ansatz is based on the unitary coupled cluster method,\n",
        "# An ansatz an educated guess about the form of the quantum state that is being used to solve the problem.\n",
        "# It is a parameterized quantum circuit that prepares a quantum state,\n",
        "# which is iteratively optimized to solve the problem at hand.\n",
        "ansatz = UCCSD(\n",
        "    norb,\n",
        "    (nalpha, nbeta),\n",
        "    mapper,\n",
        "    initial_state=HartreeFock(\n",
        "        norb,\n",
        "        (nalpha, nbeta),\n",
        "        mapper,\n",
        "    ),\n",
        ")\n",
        "\n",
        "# VQE is a hybrid quantum-classical algorithm designed to find the lowest eigenvalue (i.e. ground state) of a Hamiltonian\n",
        "vqe = VQE(Estimator(), ansatz, SLSQP())\n",
        "vqe.initial_point = np.zeros(ansatz.num_parameters)\n",
        "\n",
        "algorithm = GroundStateEigensolver(mapper, vqe)\n",
        "cas.fcisolver = QiskitSolver(algorithm)\n",
        "cas.run()"
      ],
      "metadata": {
        "colab": {
          "base_uri": "https://localhost:8080/"
        },
        "id": "tfRKw_LA0uqO",
        "outputId": "72bd4184-4732-4d48-cc95-b1d6984a5476"
      },
      "execution_count": 22,
      "outputs": [
        {
          "output_type": "stream",
          "name": "stdout",
          "text": [
            "converged SCF energy = -7.86186476980865\n",
            "CASCI E = -7.86212880517765  E(CI) = -1.05811650687560\n"
          ]
        },
        {
          "output_type": "execute_result",
          "data": {
            "text/plain": [
              "<pyscf.mcscf.casci.CASCI at 0x7c82c24778e0>"
            ]
          },
          "metadata": {},
          "execution_count": 22
        }
      ]
    },
    {
      "cell_type": "code",
      "source": [
        "print(\"Is calculation converged?\", cas.converged)"
      ],
      "metadata": {
        "colab": {
          "base_uri": "https://localhost:8080/"
        },
        "id": "Y2nwGlwKLARe",
        "outputId": "271bccef-5b1a-4d6d-c05a-9d1f8906d1cb"
      },
      "execution_count": 23,
      "outputs": [
        {
          "output_type": "stream",
          "name": "stdout",
          "text": [
            "Is calculation converged? True\n"
          ]
        }
      ]
    },
    {
      "cell_type": "code",
      "source": [
        "print(\"Calculated energies: \")\n",
        "print(\"Total energy\", cas.e_tot)\n",
        "print(\"Correlation energy\", cas.e_cas)\n"
      ],
      "metadata": {
        "colab": {
          "base_uri": "https://localhost:8080/"
        },
        "id": "7WOToZZBLJe3",
        "outputId": "616332f3-e015-493b-e63d-2ebb49c35e69"
      },
      "execution_count": 24,
      "outputs": [
        {
          "output_type": "stream",
          "name": "stdout",
          "text": [
            "Calculated energies: \n",
            "Total energy -7.862128805177651\n",
            "Correlation energy -1.0581165068755993\n"
          ]
        }
      ]
    },
    {
      "cell_type": "markdown",
      "metadata": {
        "id": "pBqOkA0NLmQr"
      },
      "source": [
        "# QUESTIONS:\n",
        "What are the outputs from the above code:\n",
        "\n",
        "* converged SCF energy\n",
        "* CASCI E  \n",
        "* E(CI)\n",
        "\n",
        "What is the significance of what you have just accomplished?\n"
      ]
    },
    {
      "cell_type": "markdown",
      "source": [
        "<Enter answer here>"
      ],
      "metadata": {
        "id": "wmmOW7Xg5qcR"
      }
    }
  ],
  "metadata": {
    "accelerator": "GPU",
    "colab": {
      "provenance": [],
      "authorship_tag": "ABX9TyNhCjDspVVrEZOwn4TZ+5us",
      "include_colab_link": true
    },
    "kernelspec": {
      "display_name": "Python 3",
      "name": "python3"
    },
    "language_info": {
      "name": "python"
    }
  },
  "nbformat": 4,
  "nbformat_minor": 0
}