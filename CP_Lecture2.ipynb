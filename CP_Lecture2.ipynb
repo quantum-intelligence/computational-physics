{
  "nbformat": 4,
  "nbformat_minor": 0,
  "metadata": {
    "kernelspec": {
      "display_name": "Python (datsci)",
      "language": "python",
      "name": "datsci"
    },
    "language_info": {
      "codemirror_mode": {
        "name": "ipython",
        "version": 3
      },
      "file_extension": ".py",
      "mimetype": "text/x-python",
      "name": "python",
      "nbconvert_exporter": "python",
      "pygments_lexer": "ipython3",
      "version": "3.6.5"
    },
    "colab": {
      "provenance": [],
      "include_colab_link": true
    }
  },
  "cells": [
    {
      "cell_type": "markdown",
      "metadata": {
        "id": "view-in-github",
        "colab_type": "text"
      },
      "source": [
        "<a href=\"https://colab.research.google.com/github/quantum-intelligence/computational-physics/blob/main/CP_Lecture2.ipynb\" target=\"_parent\"><img src=\"https://colab.research.google.com/assets/colab-badge.svg\" alt=\"Open In Colab\"/></a>"
      ]
    },
    {
      "cell_type": "markdown",
      "metadata": {
        "id": "pLML23xeL0rF"
      },
      "source": [
        "# Computational Physics\n",
        "## Lecture 2"
      ]
    },
    {
      "cell_type": "markdown",
      "metadata": {
        "id": "oxQ5PLu7L0rK"
      },
      "source": [
        "Import python packages"
      ]
    },
    {
      "cell_type": "code",
      "metadata": {
        "id": "4fMXUngxL0rK"
      },
      "source": [
        "import numpy as np\n",
        "import matplotlib.pyplot as plt"
      ],
      "execution_count": 1,
      "outputs": []
    },
    {
      "cell_type": "markdown",
      "metadata": {
        "id": "sede-KD7L0rL"
      },
      "source": [
        "Define x values and a function f(x)"
      ]
    },
    {
      "cell_type": "code",
      "metadata": {
        "id": "N2RKN8p2L0rL"
      },
      "source": [
        "def gen_x_and_f(N=10):\n",
        "    \"\"\" \n",
        "       generates arrays for x and f(x) \n",
        "       - f(x) is hard-coded\n",
        "       - the x range is hard-coded\n",
        "    \"\"\"\n",
        "    # N=10  # number of points\n",
        "    x = np.linspace(0,1,N)  # x array\n",
        "    f_x = x**2  # array of corresponding values for f(x)\n",
        "    return x, f_x"
      ],
      "execution_count": 2,
      "outputs": []
    },
    {
      "cell_type": "code",
      "metadata": {
        "id": "4KDP3em5L0rL"
      },
      "source": [
        " x, f_x =  gen_x_and_f()"
      ],
      "execution_count": 3,
      "outputs": []
    },
    {
      "cell_type": "code",
      "metadata": {
        "colab": {
          "base_uri": "https://localhost:8080/"
        },
        "id": "f9uhcT79S9DE",
        "outputId": "8b4cd275-9825-4d0e-8fab-bb2390527efb"
      },
      "source": [
        "print(x)\n",
        "print(f_x)\n",
        "print(len(x))"
      ],
      "execution_count": 9,
      "outputs": [
        {
          "output_type": "stream",
          "name": "stdout",
          "text": [
            "[0.         0.11111111 0.22222222 0.33333333 0.44444444 0.55555556\n",
            " 0.66666667 0.77777778 0.88888889 1.        ]\n",
            "[0.         0.01234568 0.04938272 0.11111111 0.19753086 0.30864198\n",
            " 0.44444444 0.60493827 0.79012346 1.        ]\n",
            "10\n"
          ]
        }
      ]
    },
    {
      "cell_type": "code",
      "metadata": {
        "colab": {
          "base_uri": "https://localhost:8080/",
          "height": 284
        },
        "id": "XQiJvT_mL0rL",
        "outputId": "b8952e09-2545-4f07-939a-163716aad8b8"
      },
      "source": [
        "plt.scatter(x,f_x)\n",
        "plt.xlabel(\"x\",fontsize=15)\n",
        "plt.ylabel(\"f(x)\",fontsize=15)\n",
        "plt.show()"
      ],
      "execution_count": 5,
      "outputs": [
        {
          "output_type": "display_data",
          "data": {
            "text/plain": [
              "<Figure size 432x288 with 1 Axes>"
            ],
            "image/png": "[encoded data removed]"
          },
          "metadata": {
            "needs_background": "light"
          }
        }
      ]
    },
    {
      "cell_type": "markdown",
      "metadata": {
        "id": "8rg4if35L0rM"
      },
      "source": [
        "What is the integral of the function?"
      ]
    },
    {
      "cell_type": "code",
      "metadata": {
        "id": "a0MaDwadL0rM"
      },
      "source": [
        "def Riemann_left(x, f_x,N=10):\n",
        "    \"\"\" calculates the integral of the function using the left corner approximation \"\"\"\n",
        "    h = x[1] - x[0]\n",
        "    A = 0\n",
        "    for ith, x_i in enumerate(f_x):\n",
        "      if ith < N-1:\n",
        "         print(ith, x_i)\n",
        "         da = x_i*h\n",
        "         A = A + da\n",
        "    return A"
      ],
      "execution_count": 6,
      "outputs": []
    },
    {
      "cell_type": "code",
      "metadata": {
        "id": "LyX0jqvWzCG6"
      },
      "source": [
        "# modify Riemann_left to track da\n",
        "def Riemann_left_track_da(x, f_x,N=10):\n",
        "    \"\"\" calculates the integral of the function using the left corner approximation \"\"\"\n",
        "    h = x[1] - x[0]\n",
        "    A = 0\n",
        "    da_vals = []\n",
        "    for ith, x_i in enumerate(f_x):\n",
        "      if ith < N-1:\n",
        "         #print(ith, x_i)\n",
        "         da = x_i*h\n",
        "         da_vals.append(da)\n",
        "         A = A + da\n",
        "    da_vals = np.asarray(da_vals)\n",
        "    return A, da_vals"
      ],
      "execution_count": 7,
      "outputs": []
    },
    {
      "cell_type": "code",
      "metadata": {
        "colab": {
          "base_uri": "https://localhost:8080/"
        },
        "id": "BrY8YAiFL0rM",
        "outputId": "576056bc-aea1-4530-a94e-a7f6978669c1"
      },
      "source": [
        "N=10\n",
        "x, f_x = gen_x_and_f(N)\n",
        "print(x)\n",
        "print(f_x)\n",
        "integral_N_10 = Riemann_left(x, f_x,N)\n",
        "print(\"Integrate using N points :\", integral_N_10)"
      ],
      "execution_count": 13,
      "outputs": [
        {
          "output_type": "stream",
          "name": "stdout",
          "text": [
            "[0.         0.11111111 0.22222222 0.33333333 0.44444444 0.55555556\n",
            " 0.66666667 0.77777778 0.88888889 1.        ]\n",
            "[0.         0.01234568 0.04938272 0.11111111 0.19753086 0.30864198\n",
            " 0.44444444 0.60493827 0.79012346 1.        ]\n",
            "0 0.0\n",
            "1 0.012345679012345678\n",
            "2 0.04938271604938271\n",
            "3 0.1111111111111111\n",
            "4 0.19753086419753085\n",
            "5 0.308641975308642\n",
            "6 0.4444444444444444\n",
            "7 0.6049382716049381\n",
            "8 0.7901234567901234\n",
            "Integrate using N points : 0.279835390946502\n"
          ]
        }
      ]
    },
    {
      "cell_type": "code",
      "metadata": {
        "colab": {
          "base_uri": "https://localhost:8080/"
        },
        "id": "Wf_0gIiYziqe",
        "outputId": "1c43339f-ee9c-4245-b517-efc93f342f38"
      },
      "source": [
        "N=10\n",
        "x, f_x =  gen_x_and_f(N)\n",
        "sum_N_10, da_vals = Riemann_left_track_da(x, f_x,N)\n",
        "print(\"Integrak using N points :\", sum_N_10)\n",
        "print(\"da vals using N points :\", da_vals)\n",
        "np.sum(da_vals)"
      ],
      "execution_count": null,
      "outputs": [
        {
          "output_type": "stream",
          "text": [
            "Integrak using N points : 0.279835390946502\n",
            "da vals using N points : [0.         0.00137174 0.00548697 0.01234568 0.02194787 0.03429355\n",
            " 0.04938272 0.06721536 0.0877915 ]\n"
          ],
          "name": "stdout"
        },
        {
          "output_type": "execute_result",
          "data": {
            "text/plain": [
              "0.27983539094650206"
            ]
          },
          "metadata": {
            "tags": []
          },
          "execution_count": 12
        }
      ]
    },
    {
      "cell_type": "markdown",
      "metadata": {
        "id": "Kre-AGKrL0rM"
      },
      "source": [
        "### Tasks\n",
        "1. What is the exact value of the integral defined by the python function gen_x_and_f( )?\n",
        "2. Consider different values for the number of points, N. What happens when N increases or decreases?\n",
        "3. Generate a plot with the error versus N\n",
        "4. Change the function from $f(x) = x^2$ to your favourite function. \n",
        "    - Make a plot of your function. \n",
        "    - How good is the numerical integration?"
      ]
    },
    {
      "cell_type": "markdown",
      "metadata": {
        "id": "833CJTW3L0rM"
      },
      "source": [
        "Task #1"
      ]
    },
    {
      "cell_type": "code",
      "metadata": {
        "id": "v_Flku_FL0rN"
      },
      "source": [
        "exact = 1/3"
      ],
      "execution_count": null,
      "outputs": []
    },
    {
      "cell_type": "markdown",
      "metadata": {
        "id": "5l_O9gs9L0rN"
      },
      "source": [
        "Task #2"
      ]
    },
    {
      "cell_type": "code",
      "metadata": {
        "colab": {
          "base_uri": "https://localhost:8080/"
        },
        "id": "p1meESUsL0rN",
        "outputId": "8d3058c1-99f2-48ca-f596-3d877932c0f3"
      },
      "source": [
        "x2, y2 = gen_x_and_f(15)\n",
        "print(len(x2))\n",
        "print(len(y2))"
      ],
      "execution_count": null,
      "outputs": [
        {
          "output_type": "stream",
          "text": [
            "15\n",
            "15\n"
          ],
          "name": "stdout"
        }
      ]
    },
    {
      "cell_type": "markdown",
      "metadata": {
        "id": "5ODdpH72L0rN"
      },
      "source": [
        "Task #3"
      ]
    },
    {
      "cell_type": "code",
      "metadata": {
        "id": "NK5XHJzdL0rN"
      },
      "source": [],
      "execution_count": null,
      "outputs": []
    },
    {
      "cell_type": "markdown",
      "metadata": {
        "id": "N9ii75hVL0rN"
      },
      "source": [
        "Task #4"
      ]
    },
    {
      "cell_type": "code",
      "metadata": {
        "id": "prGMHIoWL0rN"
      },
      "source": [],
      "execution_count": null,
      "outputs": []
    },
    {
      "cell_type": "markdown",
      "metadata": {
        "id": "VAgbje85L0rN"
      },
      "source": [
        "### Extra exercise:\n",
        "- Write a function that uses the top right corner approximation and compare it with the top left corner approximation.\n",
        "- Write a function that uses the mid-point approximation and compare it wiht the top/right corner approximation."
      ]
    },
    {
      "cell_type": "code",
      "metadata": {
        "id": "FsCxkjDGL0rO"
      },
      "source": [],
      "execution_count": null,
      "outputs": []
    }
  ]
}