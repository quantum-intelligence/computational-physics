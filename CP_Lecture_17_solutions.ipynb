{
  "nbformat": 4,
  "nbformat_minor": 0,
  "metadata": {
    "colab": {
      "name": "CP Lecture 17 solutions.ipynb",
      "provenance": [],
      "collapsed_sections": [],
      "authorship_tag": "ABX9TyOpUZCpYsf2/ytIOmu4OspI",
      "include_colab_link": true
    },
    "kernelspec": {
      "name": "python3",
      "display_name": "Python 3"
    }
  },
  "cells": [
    {
      "cell_type": "markdown",
      "metadata": {
        "id": "view-in-github",
        "colab_type": "text"
      },
      "source": [
        "<a href=\"https://colab.research.google.com/github/quantum-intelligence/computational-physics/blob/main/CP_Lecture_17_solutions.ipynb\" target=\"_parent\"><img src=\"https://colab.research.google.com/assets/colab-badge.svg\" alt=\"Open In Colab\"/></a>"
      ]
    },
    {
      "cell_type": "markdown",
      "metadata": {
        "id": "cPwtEilRcm55"
      },
      "source": [
        "# Computational Physics\n",
        "## Lecture 17\n",
        "### Fourier Transform"
      ]
    },
    {
      "cell_type": "code",
      "metadata": {
        "id": "8pi5IgIYvQs-"
      },
      "source": [
        "import numpy as np\n",
        "import matplotlib.pyplot as plt\n",
        "from IPython.display import clear_output\n",
        "import time\n",
        "from scipy.fft import fft, ifft, fftfreq\n",
        "%matplotlib inline\n",
        "import pandas_datareader.data as web\n",
        "import datetime as dt\n"
      ],
      "execution_count": null,
      "outputs": []
    },
    {
      "cell_type": "code",
      "source": [
        "# !pip install pandas-datareader\n",
        "!pip install --upgrade pandas\n"
      ],
      "metadata": {
        "colab": {
          "base_uri": "https://localhost:8080/"
        },
        "id": "ucAUvXstmqrg",
        "outputId": "ed185dd5-e076-4322-fea6-23c915b9b20b"
      },
      "execution_count": null,
      "outputs": [
        {
          "output_type": "stream",
          "name": "stdout",
          "text": [
            "Requirement already satisfied: pandas in /usr/local/lib/python3.7/dist-packages (1.3.5)\n",
            "Requirement already satisfied: numpy>=1.17.3 in /usr/local/lib/python3.7/dist-packages (from pandas) (1.21.5)\n",
            "Requirement already satisfied: pytz>=2017.3 in /usr/local/lib/python3.7/dist-packages (from pandas) (2018.9)\n",
            "Requirement already satisfied: python-dateutil>=2.7.3 in /usr/local/lib/python3.7/dist-packages (from pandas) (2.8.2)\n",
            "Requirement already satisfied: six>=1.5 in /usr/local/lib/python3.7/dist-packages (from python-dateutil>=2.7.3->pandas) (1.15.0)\n"
          ]
        }
      ]
    },
    {
      "cell_type": "code",
      "source": [
        "import pandas_datareader as pdr"
      ],
      "metadata": {
        "id": "IQRy3bcwqjWC"
      },
      "execution_count": null,
      "outputs": []
    },
    {
      "cell_type": "code",
      "source": [
        "pip install --upgrade pandas-datareader"
      ],
      "metadata": {
        "colab": {
          "base_uri": "https://localhost:8080/"
        },
        "id": "S1F4bB_CpNs4",
        "outputId": "c4a79736-3d58-4377-fa1a-2aa5f67a7715"
      },
      "execution_count": null,
      "outputs": [
        {
          "output_type": "stream",
          "name": "stdout",
          "text": [
            "Requirement already satisfied: pandas-datareader in /usr/local/lib/python3.7/dist-packages (0.10.0)\n",
            "Requirement already satisfied: pandas>=0.23 in /usr/local/lib/python3.7/dist-packages (from pandas-datareader) (1.3.5)\n",
            "Requirement already satisfied: requests>=2.19.0 in /usr/local/lib/python3.7/dist-packages (from pandas-datareader) (2.23.0)\n",
            "Requirement already satisfied: lxml in /usr/local/lib/python3.7/dist-packages (from pandas-datareader) (4.2.6)\n",
            "Requirement already satisfied: pytz>=2017.3 in /usr/local/lib/python3.7/dist-packages (from pandas>=0.23->pandas-datareader) (2018.9)\n",
            "Requirement already satisfied: python-dateutil>=2.7.3 in /usr/local/lib/python3.7/dist-packages (from pandas>=0.23->pandas-datareader) (2.8.2)\n",
            "Requirement already satisfied: numpy>=1.17.3 in /usr/local/lib/python3.7/dist-packages (from pandas>=0.23->pandas-datareader) (1.21.5)\n",
            "Requirement already satisfied: six>=1.5 in /usr/local/lib/python3.7/dist-packages (from python-dateutil>=2.7.3->pandas>=0.23->pandas-datareader) (1.15.0)\n",
            "Requirement already satisfied: idna<3,>=2.5 in /usr/local/lib/python3.7/dist-packages (from requests>=2.19.0->pandas-datareader) (2.10)\n",
            "Requirement already satisfied: certifi>=2017.4.17 in /usr/local/lib/python3.7/dist-packages (from requests>=2.19.0->pandas-datareader) (2021.10.8)\n",
            "Requirement already satisfied: chardet<4,>=3.0.2 in /usr/local/lib/python3.7/dist-packages (from requests>=2.19.0->pandas-datareader) (3.0.4)\n",
            "Requirement already satisfied: urllib3!=1.25.0,!=1.25.1,<1.26,>=1.21.1 in /usr/local/lib/python3.7/dist-packages (from requests>=2.19.0->pandas-datareader) (1.24.3)\n"
          ]
        }
      ]
    },
    {
      "cell_type": "markdown",
      "metadata": {
        "id": "mrY6qPTxglBq"
      },
      "source": [
        "### QUESTIONS\n",
        "Create a synthetic data set comprising a sum of sine functions.\n",
        "- Do an FFT analysis for 1 sine function\n",
        "- Do an FFT analysis for 1 sine function + constant\n",
        "- Consider 5 sine functions (with frequencies 1,2,3,4,5)\n",
        "- Vary the sampling rate and/or step size to test the Nyquist frequency. What is the role of aliasing in your analysis?"
      ]
    },
    {
      "cell_type": "code",
      "source": [
        "# Do an FFT analysis for 1 sine function\n",
        "\n",
        "y = np.sin(np.pi*2*x)\n",
        "yk = fft(y)\n",
        "xk = fftfreq(N, T)[:N//2]\n",
        "plt.subplot(1,2,1)\n",
        "plt.plot(x,y)\n",
        "plt.xlabel('t')\n",
        "plt.subplot(1,2,2)\n",
        "plt.plot(xk, 2.0/N * np.abs(yk[0:N//2]))\n",
        "plt.xlabel('$\\omega$')\n",
        "plt.tight_layout()\n",
        "plt.show()"
      ],
      "metadata": {
        "colab": {
          "base_uri": "https://localhost:8080/",
          "height": 297
        },
        "id": "Ai0akZLqy2WP",
        "outputId": "d8a28893-82c7-495d-dfbf-e12a6df00680"
      },
      "execution_count": null,
      "outputs": [
        {
          "output_type": "display_data",
          "data": {
            "text/plain": [
              "<Figure size 432x288 with 2 Axes>"
            ],
            "image/png": "[encoded data removed]"
          },
          "metadata": {
            "needs_background": "light"
          }
        }
      ]
    },
    {
      "cell_type": "code",
      "source": [
        "# Do an FFT analysis for 1 sine function + constant\n",
        "\n",
        "N = 600 #number points\n",
        "T = 1.0/200.0 #spacing\n",
        "x = np.linspace(0, N*T, N, endpoint=False)\n",
        "y = np.sin(np.pi*2*x) + 2\n",
        "yk = fft(y)\n",
        "xk = fftfreq(N, T)\n",
        "plt.subplot(1,3,1)\n",
        "plt.plot(x,y)\n",
        "plt.xlabel('t')\n",
        "plt.subplot(1,3,2)\n",
        "plt.plot(xk, np.abs(yk)) #need to include real and imaginary parts\n",
        "plt.xlim(-5,5)\n",
        "plt.xlabel('$|\\omega$|')\n",
        "plt.subplot(1,3,3)\n",
        "plt.plot(xk, yk) #plot real parts only\n",
        "plt.xlim(-5,5)\n",
        "plt.xlabel('$\\omega$')\n",
        "plt.tight_layout()\n",
        "plt.show()\n"
      ],
      "metadata": {
        "colab": {
          "base_uri": "https://localhost:8080/",
          "height": 352
        },
        "id": "vy9c7bN747En",
        "outputId": "42df5840-32ea-4b1c-9295-7bd909e192d0"
      },
      "execution_count": null,
      "outputs": [
        {
          "output_type": "stream",
          "name": "stderr",
          "text": [
            "/usr/local/lib/python3.7/dist-packages/matplotlib/cbook/__init__.py:1317: ComplexWarning: Casting complex values to real discards the imaginary part\n",
            "  return np.asarray(x, float)\n"
          ]
        },
        {
          "output_type": "display_data",
          "data": {
            "text/plain": [
              "<Figure size 432x288 with 3 Axes>"
            ],
            "image/png": "[encoded data removed]"
          },
          "metadata": {
            "needs_background": "light"
          }
        }
      ]
    },
    {
      "cell_type": "code",
      "source": [
        "print(\"yk has real and imaginary components: \\n\")\n",
        "print(yk[:10])"
      ],
      "metadata": {
        "colab": {
          "base_uri": "https://localhost:8080/"
        },
        "id": "g9RByi33z_xy",
        "outputId": "15ce9f35-55f7-4fe5-c585-a45cb38a6d62"
      },
      "execution_count": null,
      "outputs": [
        {
          "output_type": "stream",
          "name": "stdout",
          "text": [
            "yk has real and imaginary components: \n",
            "\n",
            "[ 1.20000000e+03-0.00000000e+00j -9.41618279e-16+6.67832994e-15j\n",
            "  5.38793502e-15+1.08086112e-14j -5.77337439e-14-3.00000000e+02j\n",
            "  7.17060639e-15-7.26826960e-15j -3.15845381e-15-1.18022134e-14j\n",
            " -8.93911991e-15-2.85344342e-15j  9.73942191e-16-7.99304235e-15j\n",
            "  6.56008207e-15-3.84167164e-15j  4.25922193e-17-3.18384328e-15j]\n"
          ]
        }
      ]
    },
    {
      "cell_type": "code",
      "source": [
        "# Consider 5 sine functions (with frequencies 1,2,3,4,5)\n",
        "N = 600 #number points\n",
        "T = 1.0/200.0 #spacing\n",
        "x = np.linspace(0, N*T, N, endpoint=False)\n",
        "\n",
        "def geny(n):\n",
        "  sum = 0\n",
        "  for ith in np.arange(n):\n",
        "    ith = ith + 1\n",
        "    sum = sum + np.sin(2*np.pi*ith*x)\n",
        "  return sum\n",
        "\n",
        "n = 5\n",
        "y = geny(n)\n",
        "yk = fft(y)\n",
        "xk = fftfreq(N, T)\n",
        "xk = fftfreq(N, T)[:N//2]\n",
        "plt.subplot(1,2,1)\n",
        "plt.plot(x,y)\n",
        "plt.xlabel('t')\n",
        "plt.subplot(1,2,2)\n",
        "plt.plot(xk, 2.0/N * np.abs(yk[0:N//2]))\n",
        "plt.xlim(0,10)\n",
        "plt.xlabel('$|\\omega$|')\n",
        "\n",
        "plt.tight_layout()\n",
        "plt.show()"
      ],
      "metadata": {
        "colab": {
          "base_uri": "https://localhost:8080/",
          "height": 297
        },
        "id": "g5lq4OaYjEQ_",
        "outputId": "6ecfb318-353d-4470-f2ea-e05b73677e72"
      },
      "execution_count": null,
      "outputs": [
        {
          "output_type": "display_data",
          "data": {
            "text/plain": [
              "<Figure size 432x288 with 2 Axes>"
            ],
            "image/png": "[encoded data removed]"
          },
          "metadata": {
            "needs_background": "light"
          }
        }
      ]
    },
    {
      "cell_type": "markdown",
      "metadata": {
        "id": "1KF8uFssveCS"
      },
      "source": [
        "### Consider real world data\n",
        "- We will use stock market data which can seem periodic at times"
      ]
    },
    {
      "cell_type": "code",
      "metadata": {
        "id": "dz3lwxp4xUGy"
      },
      "source": [
        "start = dt.datetime(2015, 1, 1)\n",
        "end = dt.datetime.now()"
      ],
      "execution_count": null,
      "outputs": []
    },
    {
      "cell_type": "code",
      "source": [
        "df = pdr.get_data_yahoo(\"TSLA\") #, start, end) #Tesla\n",
        "df = pdr.get_data_yahoo(\"SPY\") #, start, end) #SP500 index\n",
        "# df = web.DataReader(\"TSLA\", 'yahoo', start, end) #Tesla #use pdr instead\n",
        "# df = web.DataReader(\"SPY\", 'yahoo', start, end) #SP500 index"
      ],
      "metadata": {
        "id": "32Dn7T5sntE5"
      },
      "execution_count": null,
      "outputs": []
    },
    {
      "cell_type": "code",
      "metadata": {
        "colab": {
          "base_uri": "https://localhost:8080/",
          "height": 238
        },
        "id": "2kMwwKGkdt61",
        "outputId": "58745984-b4a6-4372-863b-bcd8b4649447"
      },
      "source": [
        "df.head()"
      ],
      "execution_count": null,
      "outputs": [
        {
          "output_type": "execute_result",
          "data": {
            "text/plain": [
              "                  High         Low        Open       Close       Volume  \\\n",
              "Date                                                                      \n",
              "2017-04-17  234.570007  232.880005  233.110001  234.570007   68405400.0   \n",
              "2017-04-18  234.490005  233.080002  233.720001  233.869995   83225800.0   \n",
              "2017-04-19  234.949997  233.179993  234.520004  233.440002   68699900.0   \n",
              "2017-04-20  235.850006  233.779999  234.149994  235.339996   92572200.0   \n",
              "2017-04-21  235.309998  234.130005  235.250000  234.589996  110389800.0   \n",
              "\n",
              "             Adj Close  \n",
              "Date                    \n",
              "2017-04-17  214.952866  \n",
              "2017-04-18  214.311432  \n",
              "2017-04-19  213.917374  \n",
              "2017-04-20  215.658478  \n",
              "2017-04-21  214.971222  "
            ],
            "text/html": [
              "\n",
              "  <div id=\"df-97bd7d84-bbec-43f0-97f6-e55179e59d3e\">\n",
              "    <div class=\"colab-df-container\">\n",
              "      <div>\n",
              "<style scoped>\n",
              "    .dataframe tbody tr th:only-of-type {\n",
              "        vertical-align: middle;\n",
              "    }\n",
              "\n",
              "    .dataframe tbody tr th {\n",
              "        vertical-align: top;\n",
              "    }\n",
              "\n",
              "    .dataframe thead th {\n",
              "        text-align: right;\n",
              "    }\n",
              "</style>\n",
              "<table border=\"1\" class=\"dataframe\">\n",
              "  <thead>\n",
              "    <tr style=\"text-align: right;\">\n",
              "      <th></th>\n",
              "      <th>High</th>\n",
              "      <th>Low</th>\n",
              "      <th>Open</th>\n",
              "      <th>Close</th>\n",
              "      <th>Volume</th>\n",
              "      <th>Adj Close</th>\n",
              "    </tr>\n",
              "    <tr>\n",
              "      <th>Date</th>\n",
              "      <th></th>\n",
              "      <th></th>\n",
              "      <th></th>\n",
              "      <th></th>\n",
              "      <th></th>\n",
              "      <th></th>\n",
              "    </tr>\n",
              "  </thead>\n",
              "  <tbody>\n",
              "    <tr>\n",
              "      <th>2017-04-17</th>\n",
              "      <td>234.570007</td>\n",
              "      <td>232.880005</td>\n",
              "      <td>233.110001</td>\n",
              "      <td>234.570007</td>\n",
              "      <td>68405400.0</td>\n",
              "      <td>214.952866</td>\n",
              "    </tr>\n",
              "    <tr>\n",
              "      <th>2017-04-18</th>\n",
              "      <td>234.490005</td>\n",
              "      <td>233.080002</td>\n",
              "      <td>233.720001</td>\n",
              "      <td>233.869995</td>\n",
              "      <td>83225800.0</td>\n",
              "      <td>214.311432</td>\n",
              "    </tr>\n",
              "    <tr>\n",
              "      <th>2017-04-19</th>\n",
              "      <td>234.949997</td>\n",
              "      <td>233.179993</td>\n",
              "      <td>234.520004</td>\n",
              "      <td>233.440002</td>\n",
              "      <td>68699900.0</td>\n",
              "      <td>213.917374</td>\n",
              "    </tr>\n",
              "    <tr>\n",
              "      <th>2017-04-20</th>\n",
              "      <td>235.850006</td>\n",
              "      <td>233.779999</td>\n",
              "      <td>234.149994</td>\n",
              "      <td>235.339996</td>\n",
              "      <td>92572200.0</td>\n",
              "      <td>215.658478</td>\n",
              "    </tr>\n",
              "    <tr>\n",
              "      <th>2017-04-21</th>\n",
              "      <td>235.309998</td>\n",
              "      <td>234.130005</td>\n",
              "      <td>235.250000</td>\n",
              "      <td>234.589996</td>\n",
              "      <td>110389800.0</td>\n",
              "      <td>214.971222</td>\n",
              "    </tr>\n",
              "  </tbody>\n",
              "</table>\n",
              "</div>\n",
              "      <button class=\"colab-df-convert\" onclick=\"convertToInteractive('df-97bd7d84-bbec-43f0-97f6-e55179e59d3e')\"\n",
              "              title=\"Convert this dataframe to an interactive table.\"\n",
              "              style=\"display:none;\">\n",
              "        \n",
              "  <svg xmlns=\"http://www.w3.org/2000/svg\" height=\"24px\"viewBox=\"0 0 24 24\"\n",
              "       width=\"24px\">\n",
              "    <path d=\"M0 0h24v24H0V0z\" fill=\"none\"/>\n",
              "    <path d=\"M18.56 5.44l.94 2.06.94-2.06 2.06-.94-2.06-.94-.94-2.06-.94 2.06-2.06.94zm-11 1L8.5 8.5l.94-2.06 2.06-.94-2.06-.94L8.5 2.5l-.94 2.06-2.06.94zm10 10l.94 2.06.94-2.06 2.06-.94-2.06-.94-.94-2.06-.94 2.06-2.06.94z\"/><path d=\"M17.41 7.96l-1.37-1.37c-.4-.4-.92-.59-1.43-.59-.52 0-1.04.2-1.43.59L10.3 9.45l-7.72 7.72c-.78.78-.78 2.05 0 2.83L4 21.41c.39.39.9.59 1.41.59.51 0 1.02-.2 1.41-.59l7.78-7.78 2.81-2.81c.8-.78.8-2.07 0-2.86zM5.41 20L4 18.59l7.72-7.72 1.47 1.35L5.41 20z\"/>\n",
              "  </svg>\n",
              "      </button>\n",
              "      \n",
              "  <style>\n",
              "    .colab-df-container {\n",
              "      display:flex;\n",
              "      flex-wrap:wrap;\n",
              "      gap: 12px;\n",
              "    }\n",
              "\n",
              "    .colab-df-convert {\n",
              "      background-color: #E8F0FE;\n",
              "      border: none;\n",
              "      border-radius: 50%;\n",
              "      cursor: pointer;\n",
              "      display: none;\n",
              "      fill: #1967D2;\n",
              "      height: 32px;\n",
              "      padding: 0 0 0 0;\n",
              "      width: 32px;\n",
              "    }\n",
              "\n",
              "    .colab-df-convert:hover {\n",
              "      background-color: #E2EBFA;\n",
              "      box-shadow: 0px 1px 2px rgba(60, 64, 67, 0.3), 0px 1px 3px 1px rgba(60, 64, 67, 0.15);\n",
              "      fill: #174EA6;\n",
              "    }\n",
              "\n",
              "    [theme=dark] .colab-df-convert {\n",
              "      background-color: #3B4455;\n",
              "      fill: #D2E3FC;\n",
              "    }\n",
              "\n",
              "    [theme=dark] .colab-df-convert:hover {\n",
              "      background-color: #434B5C;\n",
              "      box-shadow: 0px 1px 3px 1px rgba(0, 0, 0, 0.15);\n",
              "      filter: drop-shadow(0px 1px 2px rgba(0, 0, 0, 0.3));\n",
              "      fill: #FFFFFF;\n",
              "    }\n",
              "  </style>\n",
              "\n",
              "      <script>\n",
              "        const buttonEl =\n",
              "          document.querySelector('#df-97bd7d84-bbec-43f0-97f6-e55179e59d3e button.colab-df-convert');\n",
              "        buttonEl.style.display =\n",
              "          google.colab.kernel.accessAllowed ? 'block' : 'none';\n",
              "\n",
              "        async function convertToInteractive(key) {\n",
              "          const element = document.querySelector('#df-97bd7d84-bbec-43f0-97f6-e55179e59d3e');\n",
              "          const dataTable =\n",
              "            await google.colab.kernel.invokeFunction('convertToInteractive',\n",
              "                                                     [key], {});\n",
              "          if (!dataTable) return;\n",
              "\n",
              "          const docLinkHtml = 'Like what you see? Visit the ' +\n",
              "            '<a target=\"_blank\" href=https://colab.research.google.com/notebooks/data_table.ipynb>data table notebook</a>'\n",
              "            + ' to learn more about interactive tables.';\n",
              "          element.innerHTML = '';\n",
              "          dataTable['output_type'] = 'display_data';\n",
              "          await google.colab.output.renderOutput(dataTable, element);\n",
              "          const docLink = document.createElement('div');\n",
              "          docLink.innerHTML = docLinkHtml;\n",
              "          element.appendChild(docLink);\n",
              "        }\n",
              "      </script>\n",
              "    </div>\n",
              "  </div>\n",
              "  "
            ]
          },
          "metadata": {},
          "execution_count": 16
        }
      ]
    },
    {
      "cell_type": "code",
      "metadata": {
        "id": "0gQC2DereH1l"
      },
      "source": [
        "# assume time steps of one day and no weekends\n",
        "t =  np.arange(len(df))\n",
        "price = df['Close']; price = np.asarray(price)"
      ],
      "execution_count": null,
      "outputs": []
    },
    {
      "cell_type": "code",
      "metadata": {
        "colab": {
          "base_uri": "https://localhost:8080/",
          "height": 296
        },
        "id": "d4QMFeDIeC4Z",
        "outputId": "67c9ff1e-7265-4e5c-fa92-6a0744b46967"
      },
      "source": [
        "#plot price data over a number of days\n",
        "plt.scatter(t,price)\n",
        "plt.xlabel('day')\n",
        "plt.ylabel('price')\n"
      ],
      "execution_count": null,
      "outputs": [
        {
          "output_type": "execute_result",
          "data": {
            "text/plain": [
              "Text(0, 0.5, 'price')"
            ]
          },
          "metadata": {},
          "execution_count": 34
        },
        {
          "output_type": "display_data",
          "data": {
            "text/plain": [
              "<Figure size 432x288 with 1 Axes>"
            ],
            "image/png": "[encoded data removed]"
          },
          "metadata": {
            "needs_background": "light"
          }
        }
      ]
    },
    {
      "cell_type": "code",
      "metadata": {
        "colab": {
          "base_uri": "https://localhost:8080/",
          "height": 337
        },
        "id": "6mXNa1WAeZUq",
        "outputId": "73acba4e-0cce-4a6b-a082-ac4145c911a7"
      },
      "source": [
        "# price = price - np.mean(price) #subtract baseline\n",
        "price_fft = fft(price)\n",
        "N = len(price)\n",
        "T = price[0] - price[1]\n",
        "xw = fftfreq(N, T)[:N//2]\n",
        "plt.semilogy(xw, 2.0/N * np.abs(price_fft[0:N//2]))\n",
        "plt.ylim(0,100)\n",
        "plt.xlabel(\"inverse days\")\n",
        "plt.show()"
      ],
      "execution_count": null,
      "outputs": [
        {
          "output_type": "stream",
          "name": "stderr",
          "text": [
            "/usr/local/lib/python3.7/dist-packages/ipykernel_launcher.py:7: UserWarning: Attempted to set non-positive bottom ylim on a log-scaled axis.\n",
            "Invalid limit will be ignored.\n",
            "  import sys\n"
          ]
        },
        {
          "output_type": "display_data",
          "data": {
            "text/plain": [
              "<Figure size 432x288 with 1 Axes>"
            ],
            "image/png": "[encoded data removed]"
          },
          "metadata": {
            "needs_background": "light"
          }
        }
      ]
    },
    {
      "cell_type": "code",
      "metadata": {
        "id": "GYmulcIVfYFA"
      },
      "source": [
        "### QUESTION:\n",
        "- vary the window and repeat the analysis\n",
        "- smooth data and repeat the analysis\n",
        "- repeat the above for the SP500\n",
        "- How could you use your analysis to predict the stock price?"
      ],
      "execution_count": null,
      "outputs": []
    },
    {
      "cell_type": "code",
      "source": [
        ""
      ],
      "metadata": {
        "id": "0zJbrsICxpW7"
      },
      "execution_count": null,
      "outputs": []
    }
  ]
}