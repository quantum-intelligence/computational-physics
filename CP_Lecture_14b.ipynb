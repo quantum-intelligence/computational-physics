{
  "nbformat": 4,
  "nbformat_minor": 0,
  "metadata": {
    "colab": {
      "name": "CP Lecture 14b.ipynb",
      "provenance": [],
      "collapsed_sections": [],
      "authorship_tag": "ABX9TyMoc6pEKX7bJhTn2uwrl6Cj"
    },
    "kernelspec": {
      "name": "python3",
      "display_name": "Python 3"
    },
    "language_info": {
      "name": "python"
    }
  },
  "cells": [
    {
      "cell_type": "markdown",
      "metadata": {
        "id": "Zp16UHDlFMpr"
      },
      "source": [
        "#Computational Physics\n",
        "Lecture 14b"
      ]
    },
    {
      "cell_type": "code",
      "metadata": {
        "id": "ypBkCBq2FmPI"
      },
      "source": [
        "from scipy import integrate\n",
        "import numpy as np\n",
        "import matplotlib.pyplot as plt"
      ],
      "execution_count": null,
      "outputs": []
    },
    {
      "cell_type": "code",
      "metadata": {
        "id": "w3eZut44Fsmc"
      },
      "source": [
        "L=20\n",
        "dim=35\n",
        "\n",
        "def V(x):\n",
        "  k=1.0\n",
        "  return k*(x-L/2)**2\n",
        "\n",
        "def bf(x,n): #nth basis function\n",
        "  return np.sin(n*np.pi*x/L)*np.sqrt(2.0/L)\n",
        "def genH(i,j): # returns the mtarix element of Hamiltonian, H_ij\n",
        "  func = lambda x:np.conjugate(bf(x,i))*((np.pi*j/L)**2 + V(x))*bf(x,j)\n",
        "  I = integrate.quad(func,0.0,L)[0]\n",
        "  return I\n",
        "\n"
      ],
      "execution_count": null,
      "outputs": []
    },
    {
      "cell_type": "code",
      "metadata": {
        "colab": {
          "base_uri": "https://localhost:8080/",
          "height": 283
        },
        "id": "8h1UfZ1aMc28",
        "outputId": "b863105f-042b-4725-98a8-7177f2fc3c8b"
      },
      "source": [
        "H=np.zeros((dim,dim))\n",
        "\n",
        "for i in range(dim):\n",
        "  for j in range(dim):\n",
        "    H[i,j]=genH(i,j)\n",
        "\n",
        "plt.imshow(H)"
      ],
      "execution_count": null,
      "outputs": [
        {
          "output_type": "execute_result",
          "data": {
            "text/plain": [
              "<matplotlib.image.AxesImage at 0x7f7ac906e250>"
            ]
          },
          "metadata": {
            "tags": []
          },
          "execution_count": 17
        },
        {
          "output_type": "display_data",
          "data": {
            "image/png": "[encoded data removed]",
            "text/plain": [
              "<Figure size 432x288 with 1 Axes>"
            ]
          },
          "metadata": {
            "tags": [],
            "needs_background": "light"
          }
        }
      ]
    },
    {
      "cell_type": "code",
      "metadata": {
        "id": "2tkIsfhQRIF1"
      },
      "source": [
        "eval, vec=np.linalg.eigh(H)"
      ],
      "execution_count": null,
      "outputs": []
    },
    {
      "cell_type": "code",
      "metadata": {
        "colab": {
          "base_uri": "https://localhost:8080/",
          "height": 386
        },
        "id": "k8Rc4kiKIGCn",
        "outputId": "e31038c4-1866-4551-a966-9e964ec3da33"
      },
      "source": [
        "def psi(x, coef): # returns the value of psi(x)=sum over (c_i * basis_function_i(x))\n",
        "  tmp=0.0\n",
        "  for i in range(dim):\n",
        "    tmp+=coef[i]*bf(x,i)\n",
        "  return tmp\n",
        "\n",
        "print(eval)\n",
        "xs=np.linspace(0,L,100)\n",
        "plt.plot(xs,psi(xs,vec[:,1])+eval[1])\n",
        "plt.plot(xs,psi(xs,vec[:,2])+eval[2])\n",
        "plt.plot(xs,psi(xs,vec[:,3])+eval[3])\n",
        "\n",
        "plt.ylim(0,6)\n",
        "plt.plot(xs,V(xs)) #plot potential\n",
        "plt.show()"
      ],
      "execution_count": null,
      "outputs": [
        {
          "output_type": "stream",
          "text": [
            "[  0.           1.           3.           5.           7.00000001\n",
            "   9.00000049  11.0000012   13.00003749  15.00006861  17.00123395\n",
            "  19.00184847  21.01937066  23.0250064   25.15112336  27.17498057\n",
            "  29.63905199  31.68914447  34.7265982   36.78655676  40.51171188\n",
            "  42.54951232  47.0037936   48.98367411  54.19281682  56.07866272\n",
            "  62.06934735  63.82507962  70.62679502  72.2162535   79.86660415\n",
            "  81.25688578  89.90158006  91.11267235 103.7459213  105.09483543]\n"
          ],
          "name": "stdout"
        },
        {
          "output_type": "display_data",
          "data": {
            "image/png": "[encoded data removed]",
            "text/plain": [
              "<Figure size 432x288 with 1 Axes>"
            ]
          },
          "metadata": {
            "tags": [],
            "needs_background": "light"
          }
        }
      ]
    },
    {
      "cell_type": "code",
      "metadata": {
        "id": "7SIv6N0_NhdT"
      },
      "source": [
        ""
      ],
      "execution_count": null,
      "outputs": []
    }
  ]
}