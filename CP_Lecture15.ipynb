{
  "nbformat": 4,
  "nbformat_minor": 0,
  "metadata": {
    "colab": {
      "provenance": [],
      "authorship_tag": "ABX9TyPoJKGXHBpC/Bh1GaHamKrx",
      "include_colab_link": true
    },
    "kernelspec": {
      "name": "python3",
      "display_name": "Python 3"
    },
    "language_info": {
      "name": "python"
    }
  },
  "cells": [
    {
      "cell_type": "markdown",
      "metadata": {
        "id": "view-in-github",
        "colab_type": "text"
      },
      "source": [
        "<a href=\"https://colab.research.google.com/github/quantum-intelligence/computational-physics/blob/main/CP_Lecture15.ipynb\" target=\"_parent\"><img src=\"https://colab.research.google.com/assets/colab-badge.svg\" alt=\"Open In Colab\"/></a>"
      ]
    },
    {
      "cell_type": "markdown",
      "metadata": {
        "id": "zJOS7iVgpzGo"
      },
      "source": [
        "# Computational Physics\n",
        "Lecture 15: Machine learning"
      ]
    },
    {
      "cell_type": "code",
      "metadata": {
        "id": "m6pLh9wbpur2"
      },
      "source": [
        "import numpy as np\n",
        "import matplotlib.pyplot as plt\n",
        "import pandas as pd\n",
        "from sklearn.linear_model import LinearRegression\n",
        "import os"
      ],
      "execution_count": null,
      "outputs": []
    },
    {
      "cell_type": "markdown",
      "metadata": {
        "id": "gEemsLonqD26"
      },
      "source": [
        "Download data from :\n",
        "https://archive.materialscloud.org/record/2019.0020/v1\n",
        "\n",
        "Description of data and corresponding study can be found here:\n",
        "https://www.nature.com/articles/s41598-020-72811-z\n",
        "\n",
        "open and load \"magneticmoment_Ef_data.csv\" using pandas.\n",
        "- save the file to your google drive (with colab) or your local drive (jupyter notebook)."
      ]
    },
    {
      "cell_type": "code",
      "metadata": {
        "colab": {
          "base_uri": "https://localhost:8080/"
        },
        "id": "ggCwERf4tZMd",
        "outputId": "5d223f89-8529-4a0f-f627-af6181ba7cc9"
      },
      "source": [
        "from google.colab import drive\n",
        "drive.mount('/content/drive')"
      ],
      "execution_count": null,
      "outputs": [
        {
          "output_type": "stream",
          "name": "stdout",
          "text": [
            "Mounted at /content/drive\n"
          ]
        }
      ]
    },
    {
      "cell_type": "markdown",
      "metadata": {
        "id": "wSYZQY3TwX4O"
      },
      "source": [
        "verify mount and check path for the csv file. Change the path below as needed."
      ]
    },
    {
      "cell_type": "code",
      "metadata": {
        "colab": {
          "base_uri": "https://localhost:8080/"
        },
        "id": "N3a_uSXTu5qB",
        "outputId": "cede6ad4-e8d8-46f0-8943-f0d8bcc3ec76"
      },
      "source": [
        "ls drive/MyDrive/Colab\\ Notebooks"
      ],
      "execution_count": null,
      "outputs": [
        {
          "output_type": "stream",
          "name": "stdout",
          "text": [
            " 2D_Ising.ipynb                                       CP_Lecture6b.ipynb\n",
            " \u001b[0m\u001b[01;34mcolab-env\u001b[0m/                                           CP_Lecture6.ipynb\n",
            "\u001b[01;34m'Computational Physics'\u001b[0m/                             'CP_Lecture6 solution.ipynb'\n",
            "'Copy of 2021ComputeFest-NotebookToCloud'             CP_Lecture_7.ipynb\n",
            "'Copy of 2D_Ising.ipynb'                              CP_Lecture8b.ipynb\n",
            "'Copy of AX3_joint_semisupervised_v10_merced.ipynb'   CP_Lecture8.ipynb\n",
            "'Copy of CP Lecture 17 solutions.ipynb'               CP_Lecture9.ipynb\n",
            "'Copy of CP_Lecture6.ipynb'                           CP_Lecture9_v2.ipynb\n",
            "'Copy of HW 1.ipynb'                                  CP_Lecture9_v2_solution_partial.ipynb\n",
            "'Copy of Intro_to_coding.ipynb'                       cycler.py\n",
            " \u001b[01;34mCOVID-19_Radiography_Dataset\u001b[0m/                        dask_work.ipynb\n",
            " CP_Lecture10.ipynb                                   distutils-precedence.pth\n",
            " CP_Lecture11.ipynb                                  'HW 1.ipynb'\n",
            " CP_Lecture12.ipynb                                   Intro_to_python.ipynb\n",
            " CP_Lecture13.ipynb                                   isympy.py\n",
            "'CP Lecture 14b.ipynb'                               'Josh Orehotsky Final Project'\n",
            "'CP_Lecture 14.ipynb'                                 magneticmoment_Ef_data.csv\n",
            " CP_Lecture15b.ipynb                                  matplotlib-3.7.1-py3.9-nspkg.pth\n",
            " CP_Lecture15.ipynb                                   mnist.pkl\n",
            " CP_Lecture16b.ipynb                                 'nCr calculator'\n",
            " CP_Lecture16.ipynb                                  'oldof CP_Lecture9.ipynb'\n",
            "'CP Lecture 17.ipynb'                                 pylab.py\n",
            "'CP Lecture 17 solutions.ipynb'                       QP_demo1.ipynb\n",
            " CP_Lecture18b.ipynb                                 \u001b[01;34m'Quantum physics'\u001b[0m/\n",
            " CP_Lecture18.ipynb                                   ruamel.yaml-0.17.21-py3.9-nspkg.pth\n",
            "'CP_ Lecture1.ipynb'                                  _ruamel_yaml.cpython-39-x86_64-linux-gnu.so\n",
            " CP_Lecture_2b.ipynb                                  six.py\n",
            " CP_Lecture2.ipynb                                    \u001b[01;34msolutions\u001b[0m/\n",
            " CP_Lecture3.ipynb                                   'Solutions of CP_Lecture11.ipynb'\n",
            " CP_Lecture4.ipynb                                    typing_extensions.py\n",
            " CP_Lecture5.ipynb                                    Untitled0.ipynb\n",
            " CP_Lecture5-solutions.ipynb                          Untitled1.ipynb\n",
            "'CP_Lecture6 (1).ipynb'                               Untitled2.ipynb\n"
          ]
        }
      ]
    },
    {
      "cell_type": "code",
      "metadata": {
        "id": "atY8SEhXqBkx"
      },
      "source": [
        "# Create dataframe of \"magneticmoment_Ef_data.csv\" using pandas.\n",
        "# Change the path to magneticmoment_Ef_data.csv as needed.\n",
        "data_path = \"drive/MyDrive/Colab Notebooks/magneticmoment_Ef_data.csv\"\n",
        "df = pd.read_csv(data_path)"
      ],
      "execution_count": null,
      "outputs": []
    },
    {
      "cell_type": "markdown",
      "metadata": {
        "id": "neDeJU_zsdGl"
      },
      "source": [
        "Explore the pandas object by examinging the columns:\n",
        "- df.column()\n",
        "\n",
        "A summary of the dataframe:\n",
        "- df.head()\n"
      ]
    },
    {
      "cell_type": "code",
      "metadata": {
        "colab": {
          "base_uri": "https://localhost:8080/"
        },
        "id": "X275lM_FxFdJ",
        "outputId": "9f566efd-57cd-4f5e-fe1b-f608a7045382"
      },
      "source": [
        "df.columns"
      ],
      "execution_count": null,
      "outputs": [
        {
          "output_type": "execute_result",
          "data": {
            "text/plain": [
              "Index(['Unnamed: 0', 'formation_energy', 'elem_frac', 'elem_list', 'energy',\n",
              "       'formula', 'magnetic_moment', 'spin_index', 'num_p', 'num_d', 'num_f',\n",
              "       'atomic_rad', 'atomic_vol', 'covalent_rad', 'dipole', 'eaffinity',\n",
              "       'num_electrons', 'atomic_rad_sum_dif', 'atomic_rad_std_dif',\n",
              "       'atomic_rad_std', 'atomic_rad_avg', 'atomic_rad_max_dif',\n",
              "       'atomic_vol_sum_dif', 'atomic_vol_std_dif', 'atomic_vol_std',\n",
              "       'atomic_vol_avg', 'atomic_vol_max_dif', 'covalentrad_sum_dif',\n",
              "       'covalentrad_std_dif', 'covalentrad_std', 'covalentrad_avg',\n",
              "       'covalentrad_max_dif', 'dipole_sum_dif', 'dipole_std_dif', 'dipole_std',\n",
              "       'dipole_avg', 'dipole_max_dif', 'eaffinity_sum_dif',\n",
              "       'eaffinity_std_dif', 'eaffinity_std', 'e_affinity_avg',\n",
              "       'e_affinity_max_dif', 'numelectron_sum_dif', 'numelectron_std_dif',\n",
              "       'numelectron_std', 'numelectron_avg', 'numelectron_max_dif',\n",
              "       'vdwradius_sum_dif', 'vdwradius_std_dif', 'vdwradius_std',\n",
              "       'vdwradius_avg', 'vdwradius_max_dif', 'e_negativity_sum_dif',\n",
              "       'e_negativity_std_dif', 'e_negativity_std', 'e_negativity_avg',\n",
              "       'e_negativity_max_dif', 'nvalence_sum_dif', 'nvalence_std_dif',\n",
              "       'nvalence_std', 'nvalence_avg', 'nvalence_max_dif', 'lastsubshell_avg',\n",
              "       'cmpd_skew_p', 'cmpd_skew_d', 'cmpd_skew_f', 'cmpd_sigma_p',\n",
              "       'cmpd_sigma_d', 'cmpd_sigma_f', 'frac_f ', 'std_ion', 'sum_ion',\n",
              "       'mean_ion', 'Born', 'hardness_mean', 'hardness_var', 'Nup_mean',\n",
              "       'Nup_var', 'cs_bob', 'cs_PE', 'cs_IR', 'cs_AR', 'cs_OX'],\n",
              "      dtype='object')"
            ]
          },
          "metadata": {},
          "execution_count": 5
        }
      ]
    },
    {
      "cell_type": "code",
      "metadata": {
        "colab": {
          "base_uri": "https://localhost:8080/",
          "height": 463
        },
        "id": "rixumV-ixGmT",
        "outputId": "003b82c4-de16-4b64-9b02-bbda281748c6"
      },
      "source": [
        "df.head(n=3)"
      ],
      "execution_count": null,
      "outputs": [
        {
          "output_type": "execute_result",
          "data": {
            "text/plain": [
              "   Unnamed: 0  formation_energy  \\\n",
              "0           0         -1.152920   \n",
              "1           1         -1.325311   \n",
              "2           2         -1.458288   \n",
              "\n",
              "                                           elem_frac  \\\n",
              "0  [{Element Cr: 0.1}, {Element Co: 0.1}, {Elemen...   \n",
              "1  [{Element Cr: 0.1}, {Element Co: 0.1}, {Elemen...   \n",
              "2  [{Element Cr: 0.1}, {Element Co: 0.1}, {Elemen...   \n",
              "\n",
              "                                           elem_list     energy  \\\n",
              "0  [Element Cr, Element Co, Element Ge, Element T... -46.782036   \n",
              "1   [Element Cr, Element Co, Element Ge, Element Te] -46.171992   \n",
              "2  [Element Cr, Element Co, Element Si, Element G... -47.107590   \n",
              "\n",
              "           formula  magnetic_moment  spin_index  num_p  num_d  ...  \\\n",
              "0   Cr1Co1Ge1Te6P1            2.816           1      4      9  ...   \n",
              "1     Cr1Co1Ge2Te6            3.142           1      4      9  ...   \n",
              "2  Cr1Co1Si1Ge1Te6            3.149           1      4      9  ...   \n",
              "\n",
              "         Born hardness_mean hardness_var Nup_mean Nup_var       cs_bob  \\\n",
              "0  824.839369      3.676485     0.392730     3.20  2.1600  42880.10573   \n",
              "1  824.567397      3.378096     0.045734     3.25  2.6875  44357.76082   \n",
              "2  824.559724      3.378693     0.036589     3.00  2.4000  42715.38977   \n",
              "\n",
              "    cs_PE      cs_IR  cs_AR       cs_OX  \n",
              "0  966.64  13.905000  11.50  4917162.56  \n",
              "1  984.88  12.438333  11.35  5087200.04  \n",
              "2  991.35  13.955000  11.00  4806565.92  \n",
              "\n",
              "[3 rows x 83 columns]"
            ],
            "text/html": [
              "\n",
              "  <div id=\"df-d993df39-d874-4bee-bf2d-6377766f7d4a\" class=\"colab-df-container\">\n",
              "    <div>\n",
              "<style scoped>\n",
              "    .dataframe tbody tr th:only-of-type {\n",
              "        vertical-align: middle;\n",
              "    }\n",
              "\n",
              "    .dataframe tbody tr th {\n",
              "        vertical-align: top;\n",
              "    }\n",
              "\n",
              "    .dataframe thead th {\n",
              "        text-align: right;\n",
              "    }\n",
              "</style>\n",
              "<table border=\"1\" class=\"dataframe\">\n",
              "  <thead>\n",
              "    <tr style=\"text-align: right;\">\n",
              "      <th></th>\n",
              "      <th>Unnamed: 0</th>\n",
              "      <th>formation_energy</th>\n",
              "      <th>elem_frac</th>\n",
              "      <th>elem_list</th>\n",
              "      <th>energy</th>\n",
              "      <th>formula</th>\n",
              "      <th>magnetic_moment</th>\n",
              "      <th>spin_index</th>\n",
              "      <th>num_p</th>\n",
              "      <th>num_d</th>\n",
              "      <th>...</th>\n",
              "      <th>Born</th>\n",
              "      <th>hardness_mean</th>\n",
              "      <th>hardness_var</th>\n",
              "      <th>Nup_mean</th>\n",
              "      <th>Nup_var</th>\n",
              "      <th>cs_bob</th>\n",
              "      <th>cs_PE</th>\n",
              "      <th>cs_IR</th>\n",
              "      <th>cs_AR</th>\n",
              "      <th>cs_OX</th>\n",
              "    </tr>\n",
              "  </thead>\n",
              "  <tbody>\n",
              "    <tr>\n",
              "      <th>0</th>\n",
              "      <td>0</td>\n",
              "      <td>-1.152920</td>\n",
              "      <td>[{Element Cr: 0.1}, {Element Co: 0.1}, {Elemen...</td>\n",
              "      <td>[Element Cr, Element Co, Element Ge, Element T...</td>\n",
              "      <td>-46.782036</td>\n",
              "      <td>Cr1Co1Ge1Te6P1</td>\n",
              "      <td>2.816</td>\n",
              "      <td>1</td>\n",
              "      <td>4</td>\n",
              "      <td>9</td>\n",
              "      <td>...</td>\n",
              "      <td>824.839369</td>\n",
              "      <td>3.676485</td>\n",
              "      <td>0.392730</td>\n",
              "      <td>3.20</td>\n",
              "      <td>2.1600</td>\n",
              "      <td>42880.10573</td>\n",
              "      <td>966.64</td>\n",
              "      <td>13.905000</td>\n",
              "      <td>11.50</td>\n",
              "      <td>4917162.56</td>\n",
              "    </tr>\n",
              "    <tr>\n",
              "      <th>1</th>\n",
              "      <td>1</td>\n",
              "      <td>-1.325311</td>\n",
              "      <td>[{Element Cr: 0.1}, {Element Co: 0.1}, {Elemen...</td>\n",
              "      <td>[Element Cr, Element Co, Element Ge, Element Te]</td>\n",
              "      <td>-46.171992</td>\n",
              "      <td>Cr1Co1Ge2Te6</td>\n",
              "      <td>3.142</td>\n",
              "      <td>1</td>\n",
              "      <td>4</td>\n",
              "      <td>9</td>\n",
              "      <td>...</td>\n",
              "      <td>824.567397</td>\n",
              "      <td>3.378096</td>\n",
              "      <td>0.045734</td>\n",
              "      <td>3.25</td>\n",
              "      <td>2.6875</td>\n",
              "      <td>44357.76082</td>\n",
              "      <td>984.88</td>\n",
              "      <td>12.438333</td>\n",
              "      <td>11.35</td>\n",
              "      <td>5087200.04</td>\n",
              "    </tr>\n",
              "    <tr>\n",
              "      <th>2</th>\n",
              "      <td>2</td>\n",
              "      <td>-1.458288</td>\n",
              "      <td>[{Element Cr: 0.1}, {Element Co: 0.1}, {Elemen...</td>\n",
              "      <td>[Element Cr, Element Co, Element Si, Element G...</td>\n",
              "      <td>-47.107590</td>\n",
              "      <td>Cr1Co1Si1Ge1Te6</td>\n",
              "      <td>3.149</td>\n",
              "      <td>1</td>\n",
              "      <td>4</td>\n",
              "      <td>9</td>\n",
              "      <td>...</td>\n",
              "      <td>824.559724</td>\n",
              "      <td>3.378693</td>\n",
              "      <td>0.036589</td>\n",
              "      <td>3.00</td>\n",
              "      <td>2.4000</td>\n",
              "      <td>42715.38977</td>\n",
              "      <td>991.35</td>\n",
              "      <td>13.955000</td>\n",
              "      <td>11.00</td>\n",
              "      <td>4806565.92</td>\n",
              "    </tr>\n",
              "  </tbody>\n",
              "</table>\n",
              "<p>3 rows × 83 columns</p>\n",
              "</div>\n",
              "    <div class=\"colab-df-buttons\">\n",
              "\n",
              "  <div class=\"colab-df-container\">\n",
              "    <button class=\"colab-df-convert\" onclick=\"convertToInteractive('df-d993df39-d874-4bee-bf2d-6377766f7d4a')\"\n",
              "            title=\"Convert this dataframe to an interactive table.\"\n",
              "            style=\"display:none;\">\n",
              "\n",
              "  <svg xmlns=\"http://www.w3.org/2000/svg\" height=\"24px\" viewBox=\"0 -960 960 960\">\n",
              "    <path d=\"M120-120v-720h720v720H120Zm60-500h600v-160H180v160Zm220 220h160v-160H400v160Zm0 220h160v-160H400v160ZM180-400h160v-160H180v160Zm440 0h160v-160H620v160ZM180-180h160v-160H180v160Zm440 0h160v-160H620v160Z\"/>\n",
              "  </svg>\n",
              "    </button>\n",
              "\n",
              "  <style>\n",
              "    .colab-df-container {\n",
              "      display:flex;\n",
              "      gap: 12px;\n",
              "    }\n",
              "\n",
              "    .colab-df-convert {\n",
              "      background-color: #E8F0FE;\n",
              "      border: none;\n",
              "      border-radius: 50%;\n",
              "      cursor: pointer;\n",
              "      display: none;\n",
              "      fill: #1967D2;\n",
              "      height: 32px;\n",
              "      padding: 0 0 0 0;\n",
              "      width: 32px;\n",
              "    }\n",
              "\n",
              "    .colab-df-convert:hover {\n",
              "      background-color: #E2EBFA;\n",
              "      box-shadow: 0px 1px 2px rgba(60, 64, 67, 0.3), 0px 1px 3px 1px rgba(60, 64, 67, 0.15);\n",
              "      fill: #174EA6;\n",
              "    }\n",
              "\n",
              "    .colab-df-buttons div {\n",
              "      margin-bottom: 4px;\n",
              "    }\n",
              "\n",
              "    [theme=dark] .colab-df-convert {\n",
              "      background-color: #3B4455;\n",
              "      fill: #D2E3FC;\n",
              "    }\n",
              "\n",
              "    [theme=dark] .colab-df-convert:hover {\n",
              "      background-color: #434B5C;\n",
              "      box-shadow: 0px 1px 3px 1px rgba(0, 0, 0, 0.15);\n",
              "      filter: drop-shadow(0px 1px 2px rgba(0, 0, 0, 0.3));\n",
              "      fill: #FFFFFF;\n",
              "    }\n",
              "  </style>\n",
              "\n",
              "    <script>\n",
              "      const buttonEl =\n",
              "        document.querySelector('#df-d993df39-d874-4bee-bf2d-6377766f7d4a button.colab-df-convert');\n",
              "      buttonEl.style.display =\n",
              "        google.colab.kernel.accessAllowed ? 'block' : 'none';\n",
              "\n",
              "      async function convertToInteractive(key) {\n",
              "        const element = document.querySelector('#df-d993df39-d874-4bee-bf2d-6377766f7d4a');\n",
              "        const dataTable =\n",
              "          await google.colab.kernel.invokeFunction('convertToInteractive',\n",
              "                                                    [key], {});\n",
              "        if (!dataTable) return;\n",
              "\n",
              "        const docLinkHtml = 'Like what you see? Visit the ' +\n",
              "          '<a target=\"_blank\" href=https://colab.research.google.com/notebooks/data_table.ipynb>data table notebook</a>'\n",
              "          + ' to learn more about interactive tables.';\n",
              "        element.innerHTML = '';\n",
              "        dataTable['output_type'] = 'display_data';\n",
              "        await google.colab.output.renderOutput(dataTable, element);\n",
              "        const docLink = document.createElement('div');\n",
              "        docLink.innerHTML = docLinkHtml;\n",
              "        element.appendChild(docLink);\n",
              "      }\n",
              "    </script>\n",
              "  </div>\n",
              "\n",
              "\n",
              "<div id=\"df-7e6790d2-91d5-455b-97ae-c7c10559b474\">\n",
              "  <button class=\"colab-df-quickchart\" onclick=\"quickchart('df-7e6790d2-91d5-455b-97ae-c7c10559b474')\"\n",
              "            title=\"Suggest charts\"\n",
              "            style=\"display:none;\">\n",
              "\n",
              "<svg xmlns=\"http://www.w3.org/2000/svg\" height=\"24px\"viewBox=\"0 0 24 24\"\n",
              "     width=\"24px\">\n",
              "    <g>\n",
              "        <path d=\"M19 3H5c-1.1 0-2 .9-2 2v14c0 1.1.9 2 2 2h14c1.1 0 2-.9 2-2V5c0-1.1-.9-2-2-2zM9 17H7v-7h2v7zm4 0h-2V7h2v10zm4 0h-2v-4h2v4z\"/>\n",
              "    </g>\n",
              "</svg>\n",
              "  </button>\n",
              "\n",
              "<style>\n",
              "  .colab-df-quickchart {\n",
              "      --bg-color: #E8F0FE;\n",
              "      --fill-color: #1967D2;\n",
              "      --hover-bg-color: #E2EBFA;\n",
              "      --hover-fill-color: #174EA6;\n",
              "      --disabled-fill-color: #AAA;\n",
              "      --disabled-bg-color: #DDD;\n",
              "  }\n",
              "\n",
              "  [theme=dark] .colab-df-quickchart {\n",
              "      --bg-color: #3B4455;\n",
              "      --fill-color: #D2E3FC;\n",
              "      --hover-bg-color: #434B5C;\n",
              "      --hover-fill-color: #FFFFFF;\n",
              "      --disabled-bg-color: #3B4455;\n",
              "      --disabled-fill-color: #666;\n",
              "  }\n",
              "\n",
              "  .colab-df-quickchart {\n",
              "    background-color: var(--bg-color);\n",
              "    border: none;\n",
              "    border-radius: 50%;\n",
              "    cursor: pointer;\n",
              "    display: none;\n",
              "    fill: var(--fill-color);\n",
              "    height: 32px;\n",
              "    padding: 0;\n",
              "    width: 32px;\n",
              "  }\n",
              "\n",
              "  .colab-df-quickchart:hover {\n",
              "    background-color: var(--hover-bg-color);\n",
              "    box-shadow: 0 1px 2px rgba(60, 64, 67, 0.3), 0 1px 3px 1px rgba(60, 64, 67, 0.15);\n",
              "    fill: var(--button-hover-fill-color);\n",
              "  }\n",
              "\n",
              "  .colab-df-quickchart-complete:disabled,\n",
              "  .colab-df-quickchart-complete:disabled:hover {\n",
              "    background-color: var(--disabled-bg-color);\n",
              "    fill: var(--disabled-fill-color);\n",
              "    box-shadow: none;\n",
              "  }\n",
              "\n",
              "  .colab-df-spinner {\n",
              "    border: 2px solid var(--fill-color);\n",
              "    border-color: transparent;\n",
              "    border-bottom-color: var(--fill-color);\n",
              "    animation:\n",
              "      spin 1s steps(1) infinite;\n",
              "  }\n",
              "\n",
              "  @keyframes spin {\n",
              "    0% {\n",
              "      border-color: transparent;\n",
              "      border-bottom-color: var(--fill-color);\n",
              "      border-left-color: var(--fill-color);\n",
              "    }\n",
              "    20% {\n",
              "      border-color: transparent;\n",
              "      border-left-color: var(--fill-color);\n",
              "      border-top-color: var(--fill-color);\n",
              "    }\n",
              "    30% {\n",
              "      border-color: transparent;\n",
              "      border-left-color: var(--fill-color);\n",
              "      border-top-color: var(--fill-color);\n",
              "      border-right-color: var(--fill-color);\n",
              "    }\n",
              "    40% {\n",
              "      border-color: transparent;\n",
              "      border-right-color: var(--fill-color);\n",
              "      border-top-color: var(--fill-color);\n",
              "    }\n",
              "    60% {\n",
              "      border-color: transparent;\n",
              "      border-right-color: var(--fill-color);\n",
              "    }\n",
              "    80% {\n",
              "      border-color: transparent;\n",
              "      border-right-color: var(--fill-color);\n",
              "      border-bottom-color: var(--fill-color);\n",
              "    }\n",
              "    90% {\n",
              "      border-color: transparent;\n",
              "      border-bottom-color: var(--fill-color);\n",
              "    }\n",
              "  }\n",
              "</style>\n",
              "\n",
              "  <script>\n",
              "    async function quickchart(key) {\n",
              "      const quickchartButtonEl =\n",
              "        document.querySelector('#' + key + ' button');\n",
              "      quickchartButtonEl.disabled = true;  // To prevent multiple clicks.\n",
              "      quickchartButtonEl.classList.add('colab-df-spinner');\n",
              "      try {\n",
              "        const charts = await google.colab.kernel.invokeFunction(\n",
              "            'suggestCharts', [key], {});\n",
              "      } catch (error) {\n",
              "        console.error('Error during call to suggestCharts:', error);\n",
              "      }\n",
              "      quickchartButtonEl.classList.remove('colab-df-spinner');\n",
              "      quickchartButtonEl.classList.add('colab-df-quickchart-complete');\n",
              "    }\n",
              "    (() => {\n",
              "      let quickchartButtonEl =\n",
              "        document.querySelector('#df-7e6790d2-91d5-455b-97ae-c7c10559b474 button');\n",
              "      quickchartButtonEl.style.display =\n",
              "        google.colab.kernel.accessAllowed ? 'block' : 'none';\n",
              "    })();\n",
              "  </script>\n",
              "</div>\n",
              "    </div>\n",
              "  </div>\n"
            ],
            "application/vnd.google.colaboratory.intrinsic+json": {
              "type": "dataframe",
              "variable_name": "df"
            }
          },
          "metadata": {},
          "execution_count": 6
        }
      ]
    },
    {
      "cell_type": "markdown",
      "metadata": {
        "id": "3eyiiEOKxQkx"
      },
      "source": [
        "Consider the following target property, y and descriptors, X.\n",
        "\n",
        "y --> 'formation_energy'\n",
        "\n",
        "X --> 'std_ion', 'nvalence_avg', 'dipole_max_dif', 'dipole_std_dif','atomic_vol_max_dif','atomic_rad_max_dif'\n",
        "\n",
        "QUESTION:\n",
        "- Do linear regression using the most important descriptor only. Report the mean squared error and R^2.\n",
        "\n",
        "- Repeat the above for linear regression using all six descriptors above."
      ]
    },
    {
      "cell_type": "code",
      "metadata": {
        "id": "uXln-Se7xIeh"
      },
      "source": [
        "# type code here..."
      ],
      "execution_count": null,
      "outputs": []
    },
    {
      "cell_type": "markdown",
      "metadata": {
        "id": "bGTM2bby0hnc"
      },
      "source": [
        "QUESTION:\n",
        "- Repeat the above questions but first divide your data into a training set (80%) and test set (20%). Report performance scores on both the trainins set and test set."
      ]
    },
    {
      "cell_type": "code",
      "metadata": {
        "id": "IbH3xp5ZNls7"
      },
      "source": [
        "y = df['formation_energy'].values"
      ],
      "execution_count": null,
      "outputs": []
    },
    {
      "cell_type": "code",
      "metadata": {
        "id": "6nv5hV3fNnRB"
      },
      "source": [
        "X = df[['std_ion', 'nvalence_avg', 'dipole_max_dif', 'dipole_std_dif','atomic_vol_max_dif','atomic_rad_max_dif']]"
      ],
      "execution_count": null,
      "outputs": []
    },
    {
      "cell_type": "code",
      "metadata": {
        "colab": {
          "base_uri": "https://localhost:8080/"
        },
        "id": "OGY4v6zpNu4i",
        "outputId": "8d4c540e-08d1-4c03-f7fb-4d4ec00fb4b6"
      },
      "source": [
        "X = np.asarray(X)"
      ],
      "execution_count": null,
      "outputs": [
        {
          "output_type": "execute_result",
          "data": {
            "text/plain": [
              "numpy.ndarray"
            ]
          },
          "metadata": {},
          "execution_count": 11
        }
      ]
    },
    {
      "cell_type": "code",
      "metadata": {
        "id": "HfwOs7zaOD41"
      },
      "source": [],
      "execution_count": null,
      "outputs": []
    }
  ]
}